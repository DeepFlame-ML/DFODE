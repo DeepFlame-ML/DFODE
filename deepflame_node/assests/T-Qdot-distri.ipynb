{
 "cells": [
  {
   "cell_type": "code",
   "execution_count": null,
   "id": "a7fa2ff2",
   "metadata": {},
   "outputs": [],
   "source": [
    "import cantera as ct\n",
    "import numpy as np\n",
    "import matplotlib.pyplot as plt"
   ]
  },
  {
   "cell_type": "code",
   "execution_count": null,
   "id": "8d1331f2",
   "metadata": {},
   "outputs": [],
   "source": [
    "chem = \"HyChem41s.yaml\"\n",
    "gas = ct.Solution(chem)\n",
    "n_species = gas.n_species"
   ]
  },
  {
   "cell_type": "code",
   "execution_count": null,
   "id": "2fa39f74",
   "metadata": {},
   "outputs": [],
   "source": [
    "res_r = np.load('dataset.npy')\n",
    "res_cfd = np.load('dataset_cfd.npy')\n",
    "formation_enthalpies = np.load('formation_enthalpies.npy')\n",
    "print(res_r.shape)\n",
    "print(res_cfd.shape)"
   ]
  },
  {
   "cell_type": "code",
   "execution_count": null,
   "id": "9fc70c3b",
   "metadata": {},
   "outputs": [],
   "source": [
    "# randomset = res[np.random.choice(res.shape[0], 500000)]\n",
    "# flame1dset = res_cfd[np.random.choice(res_cfd.shape[0], 20000)]\n",
    "randomset = res_r\n",
    "flame1dset = res_cfd\n",
    "randomset.shape"
   ]
  },
  {
   "cell_type": "code",
   "execution_count": null,
   "metadata": {},
   "outputs": [],
   "source": [
    "randomset_list = []\n",
    "for i in range(randomset.shape[0]):\n",
    "    if (randomset[i, 0] > 500 and randomset[i, 2+2*n_species] < 2600 and randomset[i, 2+2*n_species] < 2600 and randomset[i, 1] < 106000 and randomset[i, 3+2*n_species] < 106000):\n",
    "        randomset_list.append(randomset[i, :])\n",
    "\n",
    "randomset_list = np.array(randomset_list)\n",
    "randomset_list.shape\n",
    "# len(randomset_list)\n",
    "# randomset_list[0]"
   ]
  },
  {
   "cell_type": "code",
   "execution_count": null,
   "metadata": {},
   "outputs": [],
   "source": [
    "print(np.min(res_cfd[:,1]))\n",
    "print(np.mean(res_cfd[:,1]))\n",
    "print(np.max(res_cfd[:,1]))\n",
    "print(np.min(res_r[:,1]))\n",
    "print(np.mean(res_r[:,1]))\n",
    "print(np.max(res_r[:,1]))\n",
    "print(np.min(res_cfd[:,0]))\n",
    "print(np.mean(res_cfd[:,0]))\n",
    "print(np.max(res_cfd[:,0]))\n",
    "print(np.min(res_r[:,0]))\n",
    "print(np.mean(res_r[:,0]))\n",
    "print(np.max(res_r[:,0]))\n",
    "print(np.min(res_cfd[:,n_species+1]))\n",
    "print(np.mean(res_cfd[:,n_species+1]))\n",
    "print(np.max(res_cfd[:,n_species+1]))\n",
    "print(np.min(res_r[:,n_species+1]))\n",
    "print(np.mean(res_r[:,n_species+1]))\n",
    "print(np.max(res_r[:,n_species+1]))\n",
    "print(np.min(res_cfd[:,n_species]))\n",
    "print(np.mean(res_cfd[:,n_species]))\n",
    "print(np.max(res_cfd[:,n_species]))\n",
    "print(np.min(res_r[:,n_species]))\n",
    "print(np.mean(res_r[:,n_species]))\n",
    "print(np.max(res_r[:,n_species]))"
   ]
  },
  {
   "cell_type": "code",
   "execution_count": null,
   "metadata": {},
   "outputs": [],
   "source": [
    "print(res_r[res_r[:,1]<101425].shape)\n",
    "# print(np.max(res_r[res_r[:,1]>105378][:,0]))\n",
    "# print(np.mean(res_r[res_r[:,1]>105378][:,0]))\n",
    "# print(np.min(res_r[res_r[:,1]>105378][:,0]))\n"
   ]
  },
  {
   "cell_type": "code",
   "execution_count": null,
   "metadata": {},
   "outputs": [],
   "source": [
    "plt.scatter(randomset[:,0], randomset[:,n_species], s=1)\n",
    "plt.scatter(flame1dset[:,0], flame1dset[:,n_species], s=1)"
   ]
  },
  {
   "cell_type": "code",
   "execution_count": null,
   "id": "af6860ff",
   "metadata": {},
   "outputs": [],
   "source": [
    "# plt.scatter(np.arange(randomset.shape[0]), randomset[:,0], s=1)\n",
    "# plt.scatter(np.arange(flame1dset.shape[0]), flame1dset[:,0], s=1)"
   ]
  },
  {
   "cell_type": "code",
   "execution_count": null,
   "id": "1265e93a",
   "metadata": {},
   "outputs": [],
   "source": [
    "qdot_r = -(formation_enthalpies*(randomset[:,4+2*n_species:4+3*n_species]-randomset[:,2:2+n_species])/1e-7).sum(axis=1)\n",
    "qdot1 = -(formation_enthalpies*(flame1dset[:,4+2*n_species:4+3*n_species]-flame1dset[:,2:2+n_species])/1e-7).sum(axis=1)\n",
    "\n",
    "plt.scatter(randomset[:,0], qdot_r/abs(qdot_r)*np.log10(abs(qdot_r)), s=0.1)\n",
    "plt.scatter(flame1dset[:,0], qdot1/abs(qdot1)*np.log10(abs(qdot1)), s=0.1)\n",
    "\n",
    "plt.ylim((4, 13))\n",
    "plt.xlim((400, 2600))\n",
    "plt.xlabel('Temperature (K)', fontsize=14)  # 设置坐标轴标签字号\n",
    "plt.ylabel('log10(Qdot) (J/kg/m3)', fontsize=14)  # 设置坐标轴标签字号\n",
    "plt.title('Joint distribution of T-Qdot', fontsize=14)  # 设置标题字号\n",
    "plt.tick_params(axis='both', which='both', direction='in', labelsize=12)"
   ]
  },
  {
   "cell_type": "code",
   "execution_count": null,
   "id": "484e9a52",
   "metadata": {},
   "outputs": [],
   "source": [
    "print(np.min(qdot_r))\n",
    "print(np.mean(qdot_r))\n",
    "print(np.max(qdot_r))\n",
    "print(np.min(qdot1))\n",
    "print(np.mean(qdot1))\n",
    "print(np.max(qdot1))\n",
    "np.shape(qdot1[qdot1[:]<-1e8])"
   ]
  },
  {
   "cell_type": "code",
   "execution_count": null,
   "metadata": {},
   "outputs": [],
   "source": [
    "print(np.mean(qdot_r[qdot_r[:]<1e10]))\n",
    "print(qdot_r[qdot_r[:]<1e10].shape)\n",
    "print(np.mean(qdot_r[qdot_r[:]>1e10]))\n",
    "print(qdot_r[qdot_r[:]>1e10].shape)"
   ]
  },
  {
   "cell_type": "code",
   "execution_count": null,
   "id": "8e2b4e2a",
   "metadata": {},
   "outputs": [],
   "source": [
    "h_r = (randomset[:,4+2*n_species:4+3*n_species]*randomset[:,4+3*n_species:4+4*n_species]-randomset[:,2:2+n_species]*randomset[:,2+n_species:2+2*n_species]).sum(axis=1)\n",
    "h_cfd =  (flame1dset[:,4+2*n_species:4+3*n_species]*flame1dset[:,4+3*n_species:4+4*n_species]-flame1dset[:,2:2+n_species]*flame1dset[:,2+n_species:2+2*n_species]).sum(axis=1)\n",
    "\n",
    "print(np.min(h_r))\n",
    "print(np.mean(h_r))\n",
    "print(np.max(h_r))\n",
    "print(np.min(h_cfd))\n",
    "print(np.mean(h_cfd))\n",
    "print(np.max(h_cfd))"
   ]
  },
  {
   "cell_type": "code",
   "execution_count": null,
   "metadata": {},
   "outputs": [],
   "source": [
    "plt.scatter(randomset[:,0], randomset[:,n_species+1], s=1)\n",
    "plt.scatter(flame1dset[:,0], flame1dset[:,n_species+1], s=1)"
   ]
  },
  {
   "cell_type": "code",
   "execution_count": null,
   "id": "b6817cea",
   "metadata": {},
   "outputs": [],
   "source": [
    "# res_hit = np.load('dataset_hit.npy')\n",
    "# plt.scatter(np.arange(randomset.shape[0]), randomset[:,0], s=1)\n",
    "# plt.scatter(np.arange(res_hit.shape[0]), res_hit[:,0], s=1)"
   ]
  },
  {
   "cell_type": "code",
   "execution_count": null,
   "id": "420e7eda",
   "metadata": {},
   "outputs": [],
   "source": [
    "# qdot_r = -(formation_enthalpies*(randomset[:,4+2*n_species:4+3*n_species]-randomset[:,2:2+n_species])/1e-6).sum(axis=1)\n",
    "# qdot3 = -(formation_enthalpies*(res_hit[:,4+2*n_species:4+3*n_species]-res_hit[:,2:2+n_species])/1e-6).sum(axis=1)\n",
    "# plt.scatter(randomset[:,0], np.log10(qdot_r), s=0.001)\n",
    "# plt.scatter(res_hit[:,0], np.log10(qdot3), s=0.001)\n",
    "# plt.ylim((5, 12))\n",
    "# plt.xlabel('Temperature (K)')\n",
    "# plt.ylabel('log10(Qdot) (J/kg/m3)')\n",
    "# plt.title('Joint distribution of T-Qdot')\n",
    "# plt.legend()"
   ]
  },
  {
   "cell_type": "code",
   "execution_count": null,
   "id": "591908af",
   "metadata": {},
   "outputs": [],
   "source": [
    "import scipy.stats as stats\n",
    "\n",
    "Temp = randomset[:,0]\n",
    "\n",
    "kde = stats.gaussian_kde(Temp)\n",
    "\n",
    "x_pts = np.linspace(400, 2800, 25)\n",
    "\n",
    "estimated_pdf = kde.evaluate(x_pts)\n",
    "\n",
    "plt.figure()\n",
    "plt.hist(Temp, bins=24, density=1.0)\n",
    "plt.plot(x_pts, estimated_pdf, color=\"r\")\n",
    "plt.ylim((0, 0.002))\n",
    "plt.xlim((400, 2800))\n",
    "plt.xlabel('Temperature (K)')\n",
    "plt.ylabel('PDF')\n",
    "plt.title('PDF-Temperature distribution')\n",
    "plt.legend()\n",
    "plt.show()\n"
   ]
  },
  {
   "cell_type": "code",
   "execution_count": null,
   "id": "69a3b0d9",
   "metadata": {},
   "outputs": [],
   "source": [
    "# Temp = np.log10(qdot)\n",
    "\n",
    "# kde = stats.gaussian_kde(Temp)\n",
    "\n",
    "# x_pts = np.linspace(4, 12, 9)\n",
    "\n",
    "# estimated_pdf = kde.evaluate(x_pts)\n",
    "\n",
    "# plt.figure()\n",
    "# plt.hist(Temp, bins=24, density=1.0)\n",
    "# plt.plot(x_pts, estimated_pdf, color=\"r\")\n",
    "# plt.ylim((0, 1))\n",
    "# plt.xlim((4, 12))\n",
    "# plt.xlabel('log10(Qdot) (J/kg/m3)')\n",
    "# plt.ylabel('PDF')\n",
    "# plt.title('PDF-Qdop distribution')\n",
    "# plt.legend()\n",
    "# plt.show()"
   ]
  },
  {
   "cell_type": "code",
   "execution_count": null,
   "id": "aa5cb9b0",
   "metadata": {},
   "outputs": [],
   "source": [
    "# plt.scatter(randomset[:,0], randomset[:,-1], s=1)\n",
    "# plt.scatter(res_hit[:,0], res_hit[:,-1], s=1)"
   ]
  },
  {
   "cell_type": "code",
   "execution_count": null,
   "id": "f0f18fa7",
   "metadata": {},
   "outputs": [],
   "source": [
    "# loss = np.array([10, 100, 1000, 10000, 100000])\n",
    "loss = np.load('loss.npy')\n",
    "print(loss.shape)\n",
    "loss[1]\n",
    "plt.scatter(range(loss.shape[0]), np.log10(loss), s=1)\n",
    "plt.xlabel('Epoch')\n",
    "plt.ylabel('log10(total_loss)')\n",
    "plt.title('Train log loss')\n",
    "plt.legend()"
   ]
  },
  {
   "cell_type": "code",
   "execution_count": null,
   "metadata": {},
   "outputs": [],
   "source": [
    "import re\n",
    "import numpy as np\n",
    "\n",
    "# 读取文本文件\n",
    "with open('log.training', 'r') as file:\n",
    "    data = file.read()\n",
    "\n",
    "# 使用正则表达式提取epoch和loss数据\n",
    "# epoch_pattern = r'epoch:\\s*([\\d.]+)'\n",
    "# loss1_pattern = r'loss1:\\s*([\\d.]+)'\n",
    "\n",
    "# epochs = np.array([float(match.group(1)) for match in re.finditer(epoch_pattern, data)])\n",
    "# loss1 = np.array([float(match.group(1)) for match in re.finditer(loss1_pattern, data)])\n",
    "epoch_pattern = r'epoch:(\\d+) , loss1:([\\d.]+e[-+]\\d+)'\n",
    "matches = re.findall(epoch_pattern, data)\n",
    "\n",
    "epochs = np.array([int(match[0]) for match in matches])\n",
    "loss1 = np.array([float(match[1]) for match in matches])\n",
    "\n",
    "# print(\"Epochs:\", epochs)\n",
    "# print(\"Loss1:\", loss1[-1])\n",
    "# plt.scatter(epochs, np.log10(loss1), s=1)\n",
    "# plt.xlabel('Epoch')\n",
    "# plt.ylabel('log10(loss)')\n",
    "# plt.title('Train log(loss)')\n",
    "# plt.legend()\n",
    "\n",
    "# plt.figure(figsize=(8, 6))\n",
    "plt.semilogy(epochs, loss1, marker='o', linestyle='-', color='b', markersize=4)\n",
    "plt.xlabel('Epoch', fontsize=14)  # 设置坐标轴标签字号\n",
    "plt.ylabel('Log(loss1)', fontsize=14)  # 设置坐标轴标签字号\n",
    "plt.title('Training Loss Over Epochs', fontsize=14)  # 设置标题字号\n",
    "# plt.grid(True, which='both', linestyle='--', linewidth=0.5)\n",
    "# plt.tight_layout()\n",
    "# plt.xticks(fontsize=12, rotation=45, direction='in')\n",
    "# plt.yticks(fontsize=12, direction='in')\n",
    "plt.tick_params(axis='both', which='both', direction='in', labelsize=12)\n",
    "plt.ylim((1e-4, 1e-1))\n",
    "# 保存图表\n",
    "plt.savefig('training_loss_plot.png')\n",
    "\n",
    "# 显示图表\n",
    "plt.show()"
   ]
  }
 ],
 "metadata": {
  "kernelspec": {
   "display_name": "Python 3 (ipykernel)",
   "language": "python",
   "name": "python3"
  },
  "language_info": {
   "codemirror_mode": {
    "name": "ipython",
    "version": 3
   },
   "file_extension": ".py",
   "mimetype": "text/x-python",
   "name": "python",
   "nbconvert_exporter": "python",
   "pygments_lexer": "ipython3",
   "version": "3.8.18"
  }
 },
 "nbformat": 4,
 "nbformat_minor": 5
}
